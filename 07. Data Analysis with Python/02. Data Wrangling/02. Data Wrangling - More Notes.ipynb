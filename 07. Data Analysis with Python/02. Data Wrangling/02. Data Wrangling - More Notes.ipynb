{
 "cells": [
  {
   "cell_type": "markdown",
   "metadata": {},
   "source": [
    "# Data Wrangling - More Notes"
   ]
  },
  {
   "cell_type": "markdown",
   "metadata": {},
   "source": [
    "## Missing Values\n",
    "\n",
    "### Dropping Missing Values\n",
    "To drop missing values, use\n",
    "` dataframes.dropna()`\n",
    "This won't change the dataframe, unless the parameter `inplace = True` is used.\n",
    "\n",
    "The argument `axis=0` will drop the entire row, and `axis=1` will drop the entire column.\n"
   ]
  },
  {
   "cell_type": "markdown",
   "metadata": {},
   "source": [
    "### Replacing Missing Values"
   ]
  },
  {
   "cell_type": "markdown",
   "metadata": {},
   "source": [
    "To replace missing values, use `dataframe.replace(missing_value, new_value)`\n",
    "\n",
    "# ![Replacing-Missing-Values](../Images/Replacing-Missing-Values.png)"
   ]
  },
  {
   "cell_type": "markdown",
   "metadata": {},
   "source": [
    "## Correcting Data Types\n",
    "\n",
    "### Identifying Data Types\n",
    "Use `dataframe.dtypes()` to identify data type\n",
    "\n",
    "### Converting Data Types\n",
    "Use `dataframe.astype()` to convert data type. e.g. converting data type to integer in column 'price' would be `df['price'] = df['price'].astype('int')`"
   ]
  },
  {
   "cell_type": "markdown",
   "metadata": {},
   "source": [
    "## Normalising Data\n",
    "The following are ways to normalise data, and each type has its own use case.\n",
    "\n",
    "### Simple Feature Scaling\n",
    "`df['column'] = df['column']/df['column'].max()`\n",
    "# ![Simple-Feature-Scaling](../Images/Simple-Feature-Scaling.png)\n",
    "\n",
    "### Min-Max\n",
    "`df['column'] = (df['column'] - df['column'].min())/(df['column'].max()-df['column'].min())`\n",
    "# ![Min-Max](../Images/Min-Max.png)\n",
    "\n",
    "### Z-Score\n",
    "`df['column'] = (df['column']-df['column'].mean())/df['column'].std()`\n",
    "# ![Z-Score](../Images/Z-Score.png)\n"
   ]
  },
  {
   "cell_type": "markdown",
   "metadata": {},
   "source": [
    "## Binning Data\n",
    "\n",
    "Binning data is grouping of values into \"bins\". It converts numeric data into categorical variables, e.g. if item prices varies between £5,000 and £50,000, they can be placed into \"low\", \"medium\", and \"high\" priced items, by defining the bin ranges.\n",
    "\n",
    "To group into `N` bins, we need `N+1` numbers as dividers that are equal distance apart. To do so, we can use the numpy function `linspace` to return the array “bins” that contains `N+1` equally spaced numbers over the specified interval of the price. We can then create a list that contains the different bin names and use the pandas function `cut` to segment and sort the data values into bins. \n",
    "\n",
    "So, for the low, medium, high example:"
   ]
  },
  {
   "cell_type": "markdown",
   "metadata": {},
   "source": [
    "`bins = np.linspace(min(df['price']), max(df['price']), 4)`\n",
    "\n",
    "`group_names = ['Low', 'Medium', 'High']`\n",
    "\n",
    "`df['price_binned'] = pd.cut(df['price'] bins, labels=group_names, include_lowest=True)`\n",
    "\n",
    "# ![Binning](../Images/Binning.png)"
   ]
  },
  {
   "cell_type": "markdown",
   "metadata": {},
   "source": [
    "Note that histograms are a good visualization for data split into bins."
   ]
  },
  {
   "cell_type": "markdown",
   "metadata": {},
   "source": [
    "## One-Hot Encoding"
   ]
  },
  {
   "cell_type": "markdown",
   "metadata": {},
   "source": [
    "One-hot encoding allows us to go from categorial variables to numerical variables, by adding dummy variables for each unique category and assigning a 0 or 1 in each category. \n",
    "\n",
    "To do this with Pandas, use the `pandas.get_dummies()` method, e.g. for a column 'fuel' with values of 'petrol' and 'diesel', the following code will create 2 columns called 'petrol' and 'diesel', and assign 0s and 1s in each row depending on which value appeared in the 'fuel' column.\n",
    "\n",
    "`pd.get_dummies(df['fuel'])`\n",
    "\n",
    "# ![One-Hot Encoding](../Images/One-Hot-Encoding.png)"
   ]
  },
  {
   "cell_type": "markdown",
   "metadata": {},
   "source": [
    "## Grouping Data\n",
    "\n",
    "### groupby method\n",
    "The Pandas `dataframe.groupby()` method can be applied on categorical variables, and groups the data into categories. An aggregate function, e.g. `.mean()` can also be applied.\n",
    "For example:\n",
    "\n",
    "`df_test = df[['drive_wheels', 'body_style', 'price']]`\n",
    "\n",
    "`df_grp = df_test.groupby(['drive_wheels', 'body_style'], as_index = False).mean()`\n",
    "\n",
    "# ![Groupby](../Images/Groupby.png)\n",
    "\n",
    "Note here that all the 4wd cars are grouped, all the fwd, then all the rwd cars (it is alphabetically ordered).\n",
    "\n",
    "\n",
    "It can be applied to single or multiple variables. It can be useful in certain scenarios, but is often hard to read, so pivot tables are often used instead.\n",
    "\n",
    "### pivot method\n",
    "The Pandas `pivot` method can be used to show 1 variable displayed along the columns and the other variables displayed along the rows, and the syntax is as follows:\n",
    "\n",
    "`df_pivot = df.pivot(index = 'drive_wheels', columns = 'body_style')`\n",
    "\n",
    "# ![Pivot](../Images/Pivot.png)\n",
    "\n",
    "A useful way to visualise this is by using a heatmap, so using matplotlib:\n",
    "\n",
    "`import matplotlib.pyplot as plt`\n",
    "\n",
    "`plt.pcolor(df_pivot, cmap = 'RdBu')`\n",
    "\n",
    "`plt.colorbar()`\n",
    "\n",
    "`plt.show()`\n",
    "\n",
    "# ![Heatmap](../Images/Heatmap.png)\n",
    "\n",
    "\n"
   ]
  },
  {
   "cell_type": "markdown",
   "metadata": {},
   "source": []
  },
  {
   "cell_type": "markdown",
   "metadata": {},
   "source": []
  },
  {
   "cell_type": "markdown",
   "metadata": {},
   "source": []
  },
  {
   "cell_type": "markdown",
   "metadata": {},
   "source": []
  }
 ],
 "metadata": {
  "interpreter": {
   "hash": "f539b26f394aad12450f3c246ed3d92d09f4c4ed1993d39994d675a18ba6eb8e"
  },
  "kernelspec": {
   "display_name": "Python 3.7.6 ('base')",
   "language": "python",
   "name": "python3"
  },
  "language_info": {
   "codemirror_mode": {
    "name": "ipython",
    "version": 3
   },
   "file_extension": ".py",
   "mimetype": "text/x-python",
   "name": "python",
   "nbconvert_exporter": "python",
   "pygments_lexer": "ipython3",
   "version": "3.7.6"
  },
  "orig_nbformat": 4
 },
 "nbformat": 4,
 "nbformat_minor": 2
}
